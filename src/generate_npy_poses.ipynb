{
 "cells": [
  {
   "cell_type": "code",
   "execution_count": 5,
   "metadata": {},
   "outputs": [],
   "source": [
    "import matplotlib.image as mpimg \n",
    "import matplotlib.pyplot as plt \n",
    "import json\n",
    "import pickle\n",
    "import numpy as np\n",
    "import os\n",
    "import cv2"
   ]
  },
  {
   "cell_type": "code",
   "execution_count": 6,
   "metadata": {},
   "outputs": [],
   "source": [
    "filenames = os.listdir('./nidhi_floss/pose_jsons/')\n",
    "#filename ='/home/nidhi/whiteboy/00126_4_keypoints.json'\n",
    "for path in filenames:\n",
    "    filename = './nidhi_floss/pose_jsons/' + path\n",
    "    with open(filename) as json_file:  \n",
    "        data = json.load(json_file)\n",
    "        people = data['people']\n",
    "        peaks = people[0]['pose_keypoints_2d']\n",
    "\n",
    "        joints = np.empty((1, 0, 2))\n",
    "\n",
    "        x_max = 1080\n",
    "        y_max = 1920\n",
    "\n",
    "        single_joint = np.zeros(shape=(1,2))\n",
    "        i = 3\n",
    "        while (i <= 54):\n",
    "            single_point = peaks[i-3:i]\n",
    "            if (single_point[0] == 0 or single_point[1] == 0):\n",
    "                single_point[0] = -1\n",
    "                single_point[1] = -1\n",
    "            else:\n",
    "                single_joint[0, 0] = single_point[0]\n",
    "                single_joint[0, 1] = single_point[1]\n",
    "\n",
    "            #print (single_joint)\n",
    "            joints = np.append(joints, [single_joint], axis=1)\n",
    "            i = i + 3\n",
    "\n",
    "        joints = joints.reshape((18,2))\n",
    "        np.save('./nidhi_floss/openpose/' + path[:-5] + '.npy', joints)"
   ]
  },
  {
   "cell_type": "code",
   "execution_count": 83,
   "metadata": {},
   "outputs": [
    {
     "data": {
      "text/plain": [
       "array([[0.514987, 0.292363],\n",
       "       [0.524509, 0.379658],\n",
       "       [0.408274, 0.382381],\n",
       "       [0.40357 , 0.49159 ],\n",
       "       [0.510098, 0.578819],\n",
       "       [0.63632 , 0.374227],\n",
       "       [0.767535, 0.445266],\n",
       "       [0.641107, 0.499803],\n",
       "       [0.456882, 0.576154],\n",
       "       [0.374267, 0.71269 ],\n",
       "       [0.408118, 0.821915],\n",
       "       [0.607442, 0.573372],\n",
       "       [0.723705, 0.720866],\n",
       "       [0.75764 , 0.835409],\n",
       "       [0.485805, 0.278621],\n",
       "       [0.529585, 0.276044],\n",
       "       [0.447173, 0.292225],\n",
       "       [0.563619, 0.292188]])"
      ]
     },
     "execution_count": 83,
     "metadata": {},
     "output_type": "execute_result"
    }
   ],
   "source": [
    "joints"
   ]
  },
  {
   "cell_type": "code",
   "execution_count": 3,
   "metadata": {},
   "outputs": [],
   "source": [
    "images = os.listdir('./nidhi_floss')"
   ]
  },
  {
   "cell_type": "code",
   "execution_count": 4,
   "metadata": {},
   "outputs": [],
   "source": [
    "color = [230,230,230]\n",
    "for item in images:\n",
    "    if 'thumb' in item:\n",
    "        filename = './nidhi_floss/' + item\n",
    "        ori_image = cv2.imread(filename)\n",
    "        new_image = cv2.resize(ori_image, (144, 256))\n",
    "        new_image = cv2.copyMakeBorder(new_image, 0, 0, 56, 56, cv2.BORDER_CONSTANT, value=color)\n",
    "        cv2.imwrite('./nidhi_floss/resized/' + item , new_image)"
   ]
  },
  {
   "cell_type": "code",
   "execution_count": 5,
   "metadata": {},
   "outputs": [],
   "source": [
    "# filename = '/home/nidhi/whiteboy/00126_4_keypoints.json'\n",
    "# with open(filename) as json_file:  \n",
    "#     data = json.load(json_file)\n",
    "#     people = data['people']\n",
    "#     peaks = people[0]['pose_keypoints_2d']\n",
    "\n",
    "#     joints = np.empty((1, 0, 2))\n",
    "\n",
    "#     x_max = 1080\n",
    "#     y_max = 1920\n",
    "\n",
    "#     single_joint = np.zeros(shape=(1,2))\n",
    "#     i = 3\n",
    "#     while (i <= 54):\n",
    "#         single_point = peaks[i-3:i]\n",
    "#         if (single_point[0] == 0 or single_point[1] == 0):\n",
    "#             single_point[0] = -1\n",
    "#             single_point[1] = -1\n",
    "#         else:\n",
    "#             single_joint[0, 0] = single_point[0]\n",
    "#             single_joint[0, 1] = single_point[1]\n",
    "\n",
    "#         #print (single_joint)\n",
    "#         joints = np.append(joints, [single_joint], axis=1)\n",
    "#         i = i + 3\n",
    "\n",
    "#     joints = joints.reshape((18,2))\n",
    "#     np.save('/home/nidhi/whiteboy/00126_4.npy', joints)"
   ]
  },
  {
   "cell_type": "code",
   "execution_count": null,
   "metadata": {},
   "outputs": [],
   "source": []
  }
 ],
 "metadata": {
  "kernelspec": {
   "display_name": "Python 3",
   "language": "python",
   "name": "python3"
  },
  "language_info": {
   "codemirror_mode": {
    "name": "ipython",
    "version": 3
   },
   "file_extension": ".py",
   "mimetype": "text/x-python",
   "name": "python",
   "nbconvert_exporter": "python",
   "pygments_lexer": "ipython3",
   "version": "3.6.7"
  }
 },
 "nbformat": 4,
 "nbformat_minor": 2
}
